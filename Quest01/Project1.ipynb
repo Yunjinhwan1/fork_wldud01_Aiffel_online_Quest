{
 "cells": [
  {
   "cell_type": "markdown",
   "id": "77c25879",
   "metadata": {},
   "source": [
    "### ✨ 프로젝트 1 : 손수 설계하는 선형회귀, 당뇨병 수치를 맞춰보자!"
   ]
  },
  {
   "cell_type": "code",
   "execution_count": 19,
   "id": "8631fbf3",
   "metadata": {},
   "outputs": [],
   "source": [
    "# 데이터 가져오기\n",
    "from sklearn.datasets import load_diabetes\n",
    "import numpy as np\n",
    "import matplotlib.pyplot as plt\n",
    "\n",
    "%matplotlib inline"
   ]
  },
  {
   "cell_type": "code",
   "execution_count": 20,
   "id": "2be72f46",
   "metadata": {},
   "outputs": [
    {
     "name": "stdout",
     "output_type": "stream",
     "text": [
      "data (442, 10)\n",
      "target (442,)\n"
     ]
    }
   ],
   "source": [
    "# data, target\n",
    "data = load_diabetes()\n",
    "df_x =df_dataframe[\"data\"]\n",
    "df_y = df_dataframe[\"target\"]\n",
    "print(\"data\", df_x.shape)\n",
    "print(\"target\", df_y.shape)"
   ]
  },
  {
   "cell_type": "code",
   "execution_count": 21,
   "id": "f5085cba",
   "metadata": {},
   "outputs": [
    {
     "name": "stdout",
     "output_type": "stream",
     "text": [
      "<class 'numpy.ndarray'> <class 'numpy.ndarray'>\n"
     ]
    }
   ],
   "source": [
    "# numpy array로 변환하기 \n",
    "df_x = df_x.values\n",
    "df_y = df_y.values\n",
    "print(type(df_x),type(df_y))"
   ]
  },
  {
   "cell_type": "code",
   "execution_count": 23,
   "id": "297aba11",
   "metadata": {},
   "outputs": [],
   "source": [
    "# train과 test data로 분리하기\n",
    "from sklearn.model_selection import train_test_split\n",
    "x_train,x_test,y_train,y_test = train_test_split(df_x, df_y,test_size = 0.2, random_state = 42 )"
   ]
  },
  {
   "cell_type": "code",
   "execution_count": 24,
   "id": "f5547b2b",
   "metadata": {},
   "outputs": [
    {
     "name": "stdout",
     "output_type": "stream",
     "text": [
      "w [-0.50418206  0.92730763  0.30075144  0.31464595  0.17840322 -2.80074419\n",
      " -2.00573911 -0.88308289 -0.45081713  0.45850396]\n",
      "0.5940554939613902\n"
     ]
    }
   ],
   "source": [
    "# 가중치와 bias 준비\n",
    "w = np.random.randn(10)\n",
    "b = np.random.randn()\n",
    "print(\"w\", w)\n",
    "print(b)\n",
    "\n",
    "# 모델함수  구현하기\n",
    "def model(X, W, b):\n",
    "    predictions =np.dot(W,X.T) + b\n",
    "    return predictions"
   ]
  },
  {
   "cell_type": "code",
   "execution_count": 25,
   "id": "aabd04cb",
   "metadata": {},
   "outputs": [],
   "source": [
    "# mse 함수\n",
    "def mse(y, prediction):\n",
    "    mse = ((y - prediction)**2).mean()\n",
    "    return mse\n",
    "\n",
    "# loss 함수\n",
    "def loss(X, W, b, y):\n",
    "    predictions = model(X, W, b)\n",
    "    L = mse(predictions, y)\n",
    "    return L"
   ]
  },
  {
   "cell_type": "code",
   "execution_count": 14,
   "id": "345cc98a",
   "metadata": {},
   "outputs": [
    {
     "name": "stdout",
     "output_type": "stream",
     "text": [
      "dW: [-1.85120837 -0.11603199 -4.97377808 -3.70924907 -1.30128109 -0.89290674\n",
      "  3.12067295 -3.27503901 -4.47522742 -3.51780363]\n",
      "db: -306.74751145179926\n"
     ]
    }
   ],
   "source": [
    "# gradient함수 구현 - 기울기 계산\n",
    "def gradient(X, W, b, y):\n",
    "    # N은 데이터 포인트의 개수\n",
    "    N = len(y)\n",
    "    # y_pred 준비\n",
    "    y_pred = model(X, W, b)\n",
    "\n",
    "    # 공식에 맞게 gradient 계산\n",
    "    dW = 1/N * 2 * X.T.dot(y_pred - y)\n",
    "\n",
    "    # b의 gradient 계산\n",
    "    db = 2 * (y_pred - y).mean()\n",
    "    return dW, db\n",
    "dW, db = gradient(x_train, w, b, y_train)\n",
    "print(\"dW:\", dW)\n",
    "print(\"db:\", db)"
   ]
  },
  {
   "cell_type": "code",
   "execution_count": 26,
   "id": "6ba3bc8a",
   "metadata": {},
   "outputs": [],
   "source": [
    " #learning rate\n",
    "lr = 0.1"
   ]
  },
  {
   "cell_type": "code",
   "execution_count": 27,
   "id": "56df8893",
   "metadata": {},
   "outputs": [
    {
     "name": "stdout",
     "output_type": "stream",
     "text": [
      "Iteration 1000 : Loss 3442.0690\n",
      "Iteration 2000 : Loss 3093.7159\n",
      "Iteration 3000 : Loss 2979.0144\n",
      "Iteration 4000 : Loss 2933.8327\n",
      "Iteration 5000 : Loss 2914.8221\n",
      "Iteration 6000 : Loss 2906.3053\n"
     ]
    }
   ],
   "source": [
    "# 모델 학습하기\n",
    "losses = []\n",
    "\n",
    "for i in range(1, 6001):\n",
    "    dW, db = gradient(x_train, w, b, y_train)\n",
    "    w -= lr * dW\n",
    "    b -= lr * db\n",
    "    L = loss(x_train, w, b, y_train)\n",
    "    losses.append(L)\n",
    "    if i % 1000 == 0:\n",
    "        print('Iteration %d : Loss %0.4f' % (i, L))"
   ]
  },
  {
   "cell_type": "code",
   "execution_count": 28,
   "id": "a093b409",
   "metadata": {},
   "outputs": [
    {
     "data": {
      "text/plain": [
       "2870.4693623192065"
      ]
     },
     "execution_count": 28,
     "metadata": {},
     "output_type": "execute_result"
    }
   ],
   "source": [
    "# test data에 대한 성능 확인하기\n",
    "prediction = model(x_test, w, b)\n",
    "mse = loss(x_test, w, b, y_test)\n",
    "mse"
   ]
  },
  {
   "cell_type": "code",
   "execution_count": 29,
   "id": "c30e7e12",
   "metadata": {},
   "outputs": [
    {
     "data": {
      "image/png": "[encoded data removed]",
      "text/plain": [
       "<Figure size 432x288 with 1 Axes>"
      ]
     },
     "metadata": {
      "needs_background": "light"
     },
     "output_type": "display_data"
    }
   ],
   "source": [
    "# 정답 데이터와 예측한 데이터 시각화\n",
    "plt.scatter(x=x_test[:, 0], y=y_test)\n",
    "plt.scatter(x=x_test[:, 0], y=prediction)\n",
    "plt.legend([\"true\",\"prediction\"])\n",
    "plt.show()"
   ]
  },
  {
   "cell_type": "markdown",
   "id": "64a2f581",
   "metadata": {},
   "source": [
    "### 개요\n",
    "- 프로젝트 1 : 손수 설계하는 선형회귀, 당뇨병 수치를 맞춰보자!\n",
    "\n",
    "### 회고\n",
    "- mse, loss, gradient 등 인공지능에 관련된 주요 함수들을 구현해 볼 수 있는 좋은 과정이 되었다.\n",
    "- 하이퍼파라미터 중 learning rate를 주로 변경하면서 모델의 loss 값을 비교해보았는데, 확실히 learning rate가 step size 역할을 해서 그런지 커질 수록 크게 크게 loss 값이 감소하였다.\n",
    "- 다른 조건은 동일하고 learning rate가 0.01인 경우에는 epochs 값이 10000이 상인 경우에 3000이하로 떨어지는데 0.1인 경우에는 6000번만 돌려도 빨리 수렴했다.\n",
    "- 하지만 추후에 설정해야 할 하이퍼파라미터가 많아지는 경우에는 learning rate를 설정하는데 다른 고려할 부분이 있는지도 살펴볼 예정이다."
   ]
  },
  {
   "cell_type": "code",
   "execution_count": null,
   "id": "891137d4",
   "metadata": {},
   "outputs": [],
   "source": []
  }
 ],
 "metadata": {
  "kernelspec": {
   "display_name": "Python 3 (ipykernel)",
   "language": "python",
   "name": "python3"
  },
  "language_info": {
   "codemirror_mode": {
    "name": "ipython",
    "version": 3
   },
   "file_extension": ".py",
   "mimetype": "text/x-python",
   "name": "python",
   "nbconvert_exporter": "python",
   "pygments_lexer": "ipython3",
   "version": "3.9.7"
  }
 },
 "nbformat": 4,
 "nbformat_minor": 5
}
