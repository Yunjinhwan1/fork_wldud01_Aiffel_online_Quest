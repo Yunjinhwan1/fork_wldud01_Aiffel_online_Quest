{
 "cells": [
  {
   "cell_type": "code",
   "execution_count": 2,
   "id": "7e34b82e",
   "metadata": {},
   "outputs": [],
   "source": [
    "# 데이터 가져오기\n",
    "from sklearn.datasets import load_diabetes\n",
    "import numpy as np\n",
    "import matplotlib.pyplot as plt\n",
    "\n",
    "%matplotlib inline"
   ]
  },
  {
   "cell_type": "code",
   "execution_count": 8,
   "id": "bbfe27c3",
   "metadata": {},
   "outputs": [
    {
     "name": "stdout",
     "output_type": "stream",
     "text": [
      "data (442, 10)\n",
      "target (442,)\n"
     ]
    }
   ],
   "source": [
    "# data, target\n",
    "data = load_diabetes()\n",
    "df_x =df_dataframe[\"data\"]\n",
    "df_y = df_dataframe[\"target\"]\n",
    "print(\"data\", df_x.shape)\n",
    "print(\"target\", df_y.shape)"
   ]
  },
  {
   "cell_type": "code",
   "execution_count": 10,
   "id": "10243aad",
   "metadata": {},
   "outputs": [
    {
     "name": "stdout",
     "output_type": "stream",
     "text": [
      "<class 'numpy.ndarray'> <class 'numpy.ndarray'>\n"
     ]
    }
   ],
   "source": [
    "# numpy array로 변환하기 \n",
    "df_x = df_x.values\n",
    "df_y = df_y.values\n",
    "print(type(df_x),type(df_y))"
   ]
  },
  {
   "cell_type": "code",
   "execution_count": 11,
   "id": "837bee3b",
   "metadata": {},
   "outputs": [],
   "source": [
    "# train과 test data로 분리하기\n",
    "from sklearn.model_selection import train_test_split\n",
    "x_train,x_test,y_train,y_test = train_test_split(df_x, df_y,test_size = 0.2, random_state = 42 )"
   ]
  },
  {
   "cell_type": "code",
   "execution_count": 12,
   "id": "9d11c1c5",
   "metadata": {},
   "outputs": [
    {
     "name": "stdout",
     "output_type": "stream",
     "text": [
      "w [ 1.32088743 -1.44838516  1.61655882  0.94177415  1.25316339  0.48067525\n",
      "  1.31925391 -0.15647748  1.12324686 -1.23339095]\n",
      "0.3606472922545783\n"
     ]
    }
   ],
   "source": [
    "# 가중치와 bias 준비\n",
    "w = np.random.randn(10)\n",
    "b = np.random.randn()\n",
    "print(\"w\", w)\n",
    "print(b)\n",
    "\n",
    "# 모델함수  구현하기\n",
    "def model(X, W, b):\n",
    "    predictions =np.dot(W,X.T) + b\n",
    "    return predictions"
   ]
  },
  {
   "cell_type": "code",
   "execution_count": 13,
   "id": "3d19721f",
   "metadata": {},
   "outputs": [],
   "source": [
    "# mse 함수\n",
    "def mse(y, prediction):\n",
    "    mse = ((y - prediction)**2).mean()\n",
    "    return mse\n",
    "\n",
    "# loss 함수\n",
    "def loss(X, W, b, y):\n",
    "    predictions = model(X, W, b)\n",
    "    L = mse(predictions, y)\n",
    "    return L"
   ]
  },
  {
   "cell_type": "code",
   "execution_count": 14,
   "id": "cf0f99e8",
   "metadata": {},
   "outputs": [
    {
     "name": "stdout",
     "output_type": "stream",
     "text": [
      "dW: [-1.85120837 -0.11603199 -4.97377808 -3.70924907 -1.30128109 -0.89290674\n",
      "  3.12067295 -3.27503901 -4.47522742 -3.51780363]\n",
      "db: -306.74751145179926\n"
     ]
    }
   ],
   "source": [
    "# gradient함수 구현 - 기울기 계산\n",
    "def gradient(X, W, b, y):\n",
    "    # N은 데이터 포인트의 개수\n",
    "    N = len(y)\n",
    "    # y_pred 준비\n",
    "    y_pred = model(X, W, b)\n",
    "\n",
    "    # 공식에 맞게 gradient 계산\n",
    "    dW = 1/N * 2 * X.T.dot(y_pred - y)\n",
    "\n",
    "    # b의 gradient 계산\n",
    "    db = 2 * (y_pred - y).mean()\n",
    "    return dW, db\n",
    "dW, db = gradient(x_train, w, b, y_train)\n",
    "print(\"dW:\", dW)\n",
    "print(\"db:\", db)"
   ]
  },
  {
   "cell_type": "code",
   "execution_count": 15,
   "id": "4bf50d6c",
   "metadata": {},
   "outputs": [],
   "source": [
    " #learning rate\n",
    "lr = 0.1"
   ]
  },
  {
   "cell_type": "code",
   "execution_count": 16,
   "id": "b6a9703e",
   "metadata": {},
   "outputs": [
    {
     "name": "stdout",
     "output_type": "stream",
     "text": [
      "Iteration 1000 : Loss 3441.3725\n",
      "Iteration 2000 : Loss 3093.0410\n",
      "Iteration 3000 : Loss 2978.4865\n",
      "Iteration 4000 : Loss 2933.4562\n",
      "Iteration 5000 : Loss 2914.5475\n",
      "Iteration 6000 : Loss 2906.0922\n"
     ]
    }
   ],
   "source": [
    "# 모델 학습하기\n",
    "losses = []\n",
    "\n",
    "for i in range(1, 6001):\n",
    "    dW, db = gradient(x_train, w, b, y_train)\n",
    "    w -= lr * dW\n",
    "    b -= lr * db\n",
    "    L = loss(x_train, w, b, y_train)\n",
    "    losses.append(L)\n",
    "    if i % 1000 == 0:\n",
    "        print('Iteration %d : Loss %0.4f' % (i, L))"
   ]
  },
  {
   "cell_type": "code",
   "execution_count": 17,
   "id": "4db5ffa4",
   "metadata": {},
   "outputs": [
    {
     "data": {
      "text/plain": [
       "2870.663806291095"
      ]
     },
     "execution_count": 17,
     "metadata": {},
     "output_type": "execute_result"
    }
   ],
   "source": [
    "# test data에 대한 성능 확인하기\n",
    "prediction = model(x_test, w, b)\n",
    "mse = loss(x_test, w, b, y_test)\n",
    "mse"
   ]
  },
  {
   "cell_type": "code",
   "execution_count": 18,
   "id": "52462a4e",
   "metadata": {},
   "outputs": [
    {
     "data": {
      "image/png": "[encoded data removed]",
      "text/plain": [
       "<Figure size 432x288 with 1 Axes>"
      ]
     },
     "metadata": {
      "needs_background": "light"
     },
     "output_type": "display_data"
    }
   ],
   "source": [
    "# 정답 데이터와 예측한 데이터 시각화\n",
    "plt.scatter(x=x_test[:, 0], y=y_test)\n",
    "plt.scatter(x=x_test[:, 0], y=prediction)\n",
    "plt.legend([\"true\",\"prediction\"])\n",
    "plt.show()"
   ]
  },
  {
   "cell_type": "code",
   "execution_count": null,
   "id": "cfff470d",
   "metadata": {},
   "outputs": [],
   "source": [
    "#git config --global user.email \"you@example.com\"\n",
    "#git config --global user.name \"Your Name\""
   ]
  }
 ],
 "metadata": {
  "kernelspec": {
   "display_name": "Python 3 (ipykernel)",
   "language": "python",
   "name": "python3"
  },
  "language_info": {
   "codemirror_mode": {
    "name": "ipython",
    "version": 3
   },
   "file_extension": ".py",
   "mimetype": "text/x-python",
   "name": "python",
   "nbconvert_exporter": "python",
   "pygments_lexer": "ipython3",
   "version": "3.9.7"
  }
 },
 "nbformat": 4,
 "nbformat_minor": 5
}
